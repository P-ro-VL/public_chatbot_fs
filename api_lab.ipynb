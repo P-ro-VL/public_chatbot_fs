{
 "cells": [
  {
   "cell_type": "markdown",
   "metadata": {},
   "source": [
    "# **WARNING: The server must be run before running belows codes**"
   ]
  },
  {
   "cell_type": "markdown",
   "metadata": {},
   "source": [
    "### 1. Import libraries and configuration"
   ]
  },
  {
   "cell_type": "code",
   "execution_count": null,
   "metadata": {},
   "outputs": [],
   "source": [
    "import requests \n",
    "\n",
    "base_url = 'http://localhost:8000/'\n",
    "\n",
    "username = 'admin'\n",
    "password = 'admin'"
   ]
  },
  {
   "cell_type": "markdown",
   "metadata": {},
   "source": [
    "### 2. Authentication to get access token"
   ]
  },
  {
   "cell_type": "code",
   "execution_count": null,
   "metadata": {},
   "outputs": [],
   "source": [
    "response = requests.post(base_url + 'v1/login', json={'username': username, 'password': password})\n",
    "data = response.json()\n",
    "access_token = data['data']['token']"
   ]
  },
  {
   "cell_type": "markdown",
   "metadata": {},
   "source": [
    "### 3. Create a new chat session\n",
    "\n",
    "**Available chat models:** ['gemini-2.0-flash', 'gpt-4o-mini']\n",
    "\n",
    "**Available text-to-sql models:** ['gemini-2.0-flash', 'qwen2.5-3b-sft', 'gpt-4o-mini', 'gpt-4o', 'gemini-2.0-flash-thinking-exp-01-21']"
   ]
  },
  {
   "cell_type": "markdown",
   "metadata": {},
   "source": [
    "3.1. A normal chat session"
   ]
  },
  {
   "cell_type": "code",
   "execution_count": null,
   "metadata": {},
   "outputs": [],
   "source": [
    "response = requests.post(base_url + 'v1/chat/create', json={\n",
    "    \"chat_model\": 'gemini-2.0-flash',\n",
    "    \"text2sql_model\": \"gemini-2.0-flash\",\n",
    "    \"mode\": \"chat\"\n",
    "}, headers={\n",
    "    \"Authorization\": f\"Bearer {access_token}\"\n",
    "})\n",
    "data = response.json()\n",
    "session_id = data['data']['id']"
   ]
  },
  {
   "cell_type": "markdown",
   "metadata": {},
   "source": [
    "3.2. A text-to-sql chat session"
   ]
  },
  {
   "cell_type": "code",
   "execution_count": null,
   "metadata": {},
   "outputs": [],
   "source": [
    "response = requests.post(base_url + 'v1/chat/create', json={\n",
    "    \"chat_model\": None,\n",
    "    \"text2sql_model\": \"gemini-2.0-flash\",\n",
    "    \"mode\": \"sql\"\n",
    "}, headers={\n",
    "    \"Authorization\": f\"Bearer {access_token}\"\n",
    "})\n",
    "data = response.json()\n",
    "session_id = data['data']['id']"
   ]
  },
  {
   "cell_type": "markdown",
   "metadata": {},
   "source": [
    "### 4. Start querying/chatting"
   ]
  },
  {
   "cell_type": "code",
   "execution_count": null,
   "metadata": {},
   "outputs": [
    {
     "ename": "",
     "evalue": "",
     "output_type": "error",
     "traceback": [
      "\u001b[1;31mRunning cells with '.venv (Python 3.12.1)' requires the ipykernel package.\n",
      "\u001b[1;31mRun the following command to install 'ipykernel' into the Python environment. \n",
      "\u001b[1;31mCommand: '/Users/admin/public_chatbot_fs/.venv/bin/python -m pip install ipykernel -U --force-reinstall'"
     ]
    }
   ],
   "source": [
    "query = 'ROAA of banking industry from 2016 to 2023'"
   ]
  },
  {
   "cell_type": "markdown",
   "metadata": {},
   "source": [
    "4.1. With streaming response"
   ]
  },
  {
   "cell_type": "code",
   "execution_count": null,
   "metadata": {},
   "outputs": [],
   "source": [
    "response = requests.post(base_url + 'v1/chat/' + session_id + '/query', json={\n",
    "    \"query\": query,\n",
    "    \"stream\": True\n",
    "}, stream=True, headers={\n",
    "    \"Authorization\": f\"Bearer {access_token}\"\n",
    "})\n",
    "\n",
    "for line in response.iter_lines():\n",
    "    if line:\n",
    "        print(line.decode(\"utf-8\"))"
   ]
  },
  {
   "cell_type": "markdown",
   "metadata": {},
   "source": [
    "4.2. Without streaming response"
   ]
  },
  {
   "cell_type": "code",
   "execution_count": null,
   "metadata": {},
   "outputs": [],
   "source": [
    "response = requests.post(base_url + 'v1/chat/' + session_id + '/query', json={\n",
    "    \"query\": query,\n",
    "    \"stream\": False\n",
    "}, headers={\n",
    "    \"Authorization\": f\"Bearer {access_token}\"\n",
    "})\n",
    "\n",
    "print(response.text)"
   ]
  },
  {
   "cell_type": "markdown",
   "metadata": {},
   "source": [
    "### 5. Check querying history"
   ]
  },
  {
   "cell_type": "code",
   "execution_count": null,
   "metadata": {},
   "outputs": [],
   "source": [
    "response = requests.get(base_url + 'v1/chat/' + session_id + '/reasoning',\n",
    "headers={\n",
    "    \"Authorization\": f\"Bearer {access_token}\"\n",
    "})\n",
    "print(response.json())"
   ]
  }
 ],
 "metadata": {
  "kernelspec": {
   "display_name": ".venv",
   "language": "python",
   "name": "python3"
  },
  "language_info": {
   "name": "python",
   "version": "3.12.1"
  }
 },
 "nbformat": 4,
 "nbformat_minor": 2
}
